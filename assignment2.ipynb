{
 "cells": [
  {
   "cell_type": "code",
   "execution_count": null,
   "id": "b2341da7-cae3-4c20-a5ca-94510e4fe2c6",
   "metadata": {},
   "outputs": [],
   "source": [
    "Q1. How do you comment code in Python? What are the different types of comments?"
   ]
  },
  {
   "cell_type": "code",
   "execution_count": null,
   "id": "f75844a7-c0dd-4df9-8ee3-35f8a8d2f0b5",
   "metadata": {},
   "outputs": [],
   "source": [
    "code can be commented by using '#'.  comments are of single-line , multi-line, and docstring comments."
   ]
  },
  {
   "cell_type": "code",
   "execution_count": null,
   "id": "34ad4abc-bf54-4241-9edd-7cb4fac554dd",
   "metadata": {},
   "outputs": [],
   "source": [
    "Q2. What are variables in Python? How do you declare and assign values to variables?"
   ]
  },
  {
   "cell_type": "code",
   "execution_count": null,
   "id": "17a1266e-505b-4ffa-9c45-71ddfdcf56e8",
   "metadata": {},
   "outputs": [],
   "source": [
    "variables are the symbolic name used to assign values . special characters and starting with number is not the correct way to declare a variable. \n",
    "just name the variable and then assign a value to it. for eg. a = 4."
   ]
  },
  {
   "cell_type": "code",
   "execution_count": null,
   "id": "627f940f-317c-4ed7-8db2-8ae993f49f14",
   "metadata": {},
   "outputs": [],
   "source": [
    "Q3. How do you convert one data type to another in Python?"
   ]
  },
  {
   "cell_type": "code",
   "execution_count": null,
   "id": "ed718b38-07f4-455e-bdce-6c73e6d09294",
   "metadata": {},
   "outputs": [],
   "source": [
    "to convert one data type to another there are several built in fuction to perform this. by integer conversion , by float conversion , string , list , tuple \n",
    "dictionary conversion."
   ]
  },
  {
   "cell_type": "code",
   "execution_count": null,
   "id": "76ddf503-b697-42bf-8ecf-cf0419e4091f",
   "metadata": {},
   "outputs": [],
   "source": [
    "Q4. How do you write and execute a Python script from the command line?"
   ]
  },
  {
   "cell_type": "code",
   "execution_count": null,
   "id": "11d31f9d-bab9-4481-8936-bc99aa75d98e",
   "metadata": {},
   "outputs": [],
   "source": [
    "1. open a text editor and create a new file \n",
    "2. in text editor , write your python code.\n",
    "3. save the file and then press enter .\n",
    "4.open command line and navigate to directory where you saved your python script.\n",
    "5. once you are in correct directory , you can execute python script by running python script.py."
   ]
  },
  {
   "cell_type": "code",
   "execution_count": null,
   "id": "0ac4a1fb-6a70-446c-9949-baadfdc7182b",
   "metadata": {},
   "outputs": [],
   "source": [
    "Q5. Given a list my_list = [1, 2, 3, 4, 5], write the code to slice the list and obtain the sub-list [2, 3]."
   ]
  },
  {
   "cell_type": "code",
   "execution_count": 1,
   "id": "abd77769-a057-4fdd-874f-8a575737609f",
   "metadata": {},
   "outputs": [
    {
     "name": "stdout",
     "output_type": "stream",
     "text": [
      "[2, 3]\n"
     ]
    }
   ],
   "source": [
    "my_list = [1, 2, 3, 4, 5]\n",
    "sub_list = my_list[1:3]\n",
    "print(sub_list)\n"
   ]
  },
  {
   "cell_type": "code",
   "execution_count": null,
   "id": "44fa6aae-7f2b-4406-8931-3386041071a2",
   "metadata": {},
   "outputs": [],
   "source": [
    "Q6. what is complex number in maths and how it is represented in python?"
   ]
  },
  {
   "cell_type": "code",
   "execution_count": null,
   "id": "a0ada5ce-d861-4b98-97b1-deadba327c26",
   "metadata": {},
   "outputs": [],
   "source": [
    "complex number is basically a combination of real and imaginary numbers . it is representend in python by 5+8j."
   ]
  },
  {
   "cell_type": "code",
   "execution_count": null,
   "id": "17bbf310-df10-4e2e-ba28-2ffcb37527e3",
   "metadata": {},
   "outputs": [],
   "source": [
    "Q7. What is the correct way to declare a variable named age and assign the value 25 to it?"
   ]
  },
  {
   "cell_type": "code",
   "execution_count": null,
   "id": "1bf32bb0-f518-48ef-b4be-0c9ecfb63aaa",
   "metadata": {},
   "outputs": [],
   "source": [
    "The correct way to declare a variable named age and assign the value 25 to it depends on the programming language you are using"
   ]
  },
  {
   "cell_type": "code",
   "execution_count": 2,
   "id": "9280f798-1b4d-439a-9647-60aa7826c817",
   "metadata": {},
   "outputs": [],
   "source": [
    "age = 25"
   ]
  },
  {
   "cell_type": "code",
   "execution_count": 3,
   "id": "de5f78f7-7bc1-4f55-86ef-6664683fcd55",
   "metadata": {},
   "outputs": [
    {
     "data": {
      "text/plain": [
       "25"
      ]
     },
     "execution_count": 3,
     "metadata": {},
     "output_type": "execute_result"
    }
   ],
   "source": [
    "age"
   ]
  },
  {
   "cell_type": "code",
   "execution_count": null,
   "id": "c7544795-62b5-46e3-98fb-8b2fd5c793a6",
   "metadata": {},
   "outputs": [],
   "source": [
    "Q8. Declare a variable named price and assign the value 9.99 to it. What data type does this variable\n",
    "belong to?"
   ]
  },
  {
   "cell_type": "code",
   "execution_count": 4,
   "id": "8d21e4aa-78a1-4b44-8d0c-c9b9f45aff6c",
   "metadata": {},
   "outputs": [],
   "source": [
    "price = 9.99"
   ]
  },
  {
   "cell_type": "code",
   "execution_count": 5,
   "id": "8f150187-4e68-4b4d-951e-8a3097b64922",
   "metadata": {},
   "outputs": [
    {
     "data": {
      "text/plain": [
       "float"
      ]
     },
     "execution_count": 5,
     "metadata": {},
     "output_type": "execute_result"
    }
   ],
   "source": [
    "type(price)"
   ]
  },
  {
   "cell_type": "code",
   "execution_count": null,
   "id": "a2889c1e-2319-445a-82a6-85286ee5efd0",
   "metadata": {},
   "outputs": [],
   "source": [
    "Q9. Create a variable named name and assign your full name to it as a string. How would you print the\n",
    "value of this variable?"
   ]
  },
  {
   "cell_type": "code",
   "execution_count": 6,
   "id": "04792fbd-60d6-4a7c-af17-96afd606d7e7",
   "metadata": {},
   "outputs": [],
   "source": [
    "name = \"AYUSH MEHTA\""
   ]
  },
  {
   "cell_type": "code",
   "execution_count": 7,
   "id": "865adf53-638a-4764-ab0e-c727e5d36d13",
   "metadata": {},
   "outputs": [
    {
     "name": "stdout",
     "output_type": "stream",
     "text": [
      "AYUSH MEHTA\n"
     ]
    }
   ],
   "source": [
    "print(name)"
   ]
  },
  {
   "cell_type": "code",
   "execution_count": 10,
   "id": "5874e69d-86d8-4936-b132-19f6c4328349",
   "metadata": {},
   "outputs": [],
   "source": [
    "\n",
    "Q10. Given the string \"Hello, World!\", extract the substring \"World\"."
   ]
  },
  {
   "cell_type": "code",
   "execution_count": 9,
   "id": "6acf2ded-3e90-47bc-802f-7dc80a101f13",
   "metadata": {},
   "outputs": [
    {
     "name": "stdout",
     "output_type": "stream",
     "text": [
      "World\n"
     ]
    }
   ],
   "source": [
    "string = \"Hello, World!\"\n",
    "substring = string[7:12]\n",
    "print(substring)\n"
   ]
  },
  {
   "cell_type": "code",
   "execution_count": null,
   "id": "e7b2e21d-70e1-4dcc-8034-2e3eff9b18f5",
   "metadata": {},
   "outputs": [],
   "source": []
  }
 ],
 "metadata": {
  "kernelspec": {
   "display_name": "Python 3 (ipykernel)",
   "language": "python",
   "name": "python3"
  },
  "language_info": {
   "codemirror_mode": {
    "name": "ipython",
    "version": 3
   },
   "file_extension": ".py",
   "mimetype": "text/x-python",
   "name": "python",
   "nbconvert_exporter": "python",
   "pygments_lexer": "ipython3",
   "version": "3.10.8"
  }
 },
 "nbformat": 4,
 "nbformat_minor": 5
}
